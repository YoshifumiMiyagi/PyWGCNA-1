{
  "nbformat": 4,
  "nbformat_minor": 0,
  "metadata": {
    "colab": {
      "provenance": [],
      "mount_file_id": "1k0bD7AKLiieCmrAjXNOq0Y8L9szGa8um",
      "authorship_tag": "ABX9TyNmlbGxPvDdceaoSWuPhiVV",
      "include_colab_link": true
    },
    "kernelspec": {
      "name": "python3",
      "display_name": "Python 3"
    },
    "language_info": {
      "name": "python"
    }
  },
  "cells": [
    {
      "cell_type": "markdown",
      "metadata": {
        "id": "view-in-github",
        "colab_type": "text"
      },
      "source": [
        "<a href=\"https://colab.research.google.com/github/YoshifumiMiyagi/PyWGCNA-1/blob/main/PyWGCNA_2.ipynb\" target=\"_parent\"><img src=\"https://colab.research.google.com/assets/colab-badge.svg\" alt=\"Open In Colab\"/></a>"
      ]
    },
    {
      "cell_type": "code",
      "execution_count": 1,
      "metadata": {
        "colab": {
          "base_uri": "https://localhost:8080/"
        },
        "id": "a7ZTJMKRDKNY",
        "outputId": "955681b8-578a-4a2a-9e8b-285167d1ff72"
      },
      "outputs": [
        {
          "output_type": "stream",
          "name": "stdout",
          "text": [
            "Cloning into 'PyWGCNA'...\n",
            "remote: Enumerating objects: 8442, done.\u001b[K\n",
            "remote: Counting objects: 100% (1515/1515), done.\u001b[K\n",
            "remote: Compressing objects: 100% (724/724), done.\u001b[K\n",
            "remote: Total 8442 (delta 836), reused 1432 (delta 754), pack-reused 6927\u001b[K\n",
            "Receiving objects: 100% (8442/8442), 573.98 MiB | 23.38 MiB/s, done.\n",
            "Resolving deltas: 100% (2409/2409), done.\n",
            "Updating files: 100% (272/272), done.\n"
          ]
        }
      ],
      "source": [
        "!git clone https://github.com/mortazavilab/PyWGCNA"
      ]
    },
    {
      "cell_type": "code",
      "source": [
        "import PyWGCNA"
      ],
      "metadata": {
        "id": "P59dLMtyDYBl"
      },
      "execution_count": 2,
      "outputs": []
    },
    {
      "cell_type": "code",
      "source": [
        "import pandas as pd\n",
        "\n",
        "host = pd.read_csv('/content/drive/MyDrive/host_TPM.csv',index_col=0)\n",
        "guest = pd.read_csv('/content/drive/MyDrive/guest_TPM.csv',index_col=0)\n",
        "\n",
        "dat = pd.concat([host,guest])\n",
        "dat.shape\n",
        "dat.T.to_csv('merged_data.csv')"
      ],
      "metadata": {
        "id": "Qq2V1xUaDi0e"
      },
      "execution_count": 4,
      "outputs": []
    },
    {
      "cell_type": "code",
      "source": [
        "geneExp = '/content/merged_data.csv'\n",
        "pyWGCNA_CC = PyWGCNA.WGCNA(name='CC',\n",
        "                              species='homo sapiens',\n",
        "                              geneExpPath=geneExp,\n",
        "                              outputPath='',\n",
        "                              save=True)\n",
        "pyWGCNA_CC.geneExpr.to_df().head(5)"
      ],
      "metadata": {
        "colab": {
          "base_uri": "https://localhost:8080/",
          "height": 235
        },
        "id": "C0_6UrBTDl8W",
        "outputId": "27cfc2e0-0bda-4c6d-dba7-4b538506fda0"
      },
      "execution_count": 6,
      "outputs": [
        {
          "output_type": "error",
          "ename": "AttributeError",
          "evalue": "ignored",
          "traceback": [
            "\u001b[0;31m---------------------------------------------------------------------------\u001b[0m",
            "\u001b[0;31mAttributeError\u001b[0m                            Traceback (most recent call last)",
            "\u001b[0;32m<ipython-input-6-f9c0c6f2937e>\u001b[0m in \u001b[0;36m<cell line: 2>\u001b[0;34m()\u001b[0m\n\u001b[1;32m      1\u001b[0m \u001b[0mgeneExp\u001b[0m \u001b[0;34m=\u001b[0m \u001b[0;34m'/content/merged_data.csv'\u001b[0m\u001b[0;34m\u001b[0m\u001b[0;34m\u001b[0m\u001b[0m\n\u001b[0;32m----> 2\u001b[0;31m pyWGCNA_CC = PyWGCNA.WGCNA(name='CC',\n\u001b[0m\u001b[1;32m      3\u001b[0m                               \u001b[0mspecies\u001b[0m\u001b[0;34m=\u001b[0m\u001b[0;34m'homo sapiens'\u001b[0m\u001b[0;34m,\u001b[0m\u001b[0;34m\u001b[0m\u001b[0;34m\u001b[0m\u001b[0m\n\u001b[1;32m      4\u001b[0m                               \u001b[0mgeneExpPath\u001b[0m\u001b[0;34m=\u001b[0m\u001b[0mgeneExp\u001b[0m\u001b[0;34m,\u001b[0m\u001b[0;34m\u001b[0m\u001b[0;34m\u001b[0m\u001b[0m\n\u001b[1;32m      5\u001b[0m                               \u001b[0moutputPath\u001b[0m\u001b[0;34m=\u001b[0m\u001b[0;34m''\u001b[0m\u001b[0;34m,\u001b[0m\u001b[0;34m\u001b[0m\u001b[0;34m\u001b[0m\u001b[0m\n",
            "\u001b[0;31mAttributeError\u001b[0m: module 'PyWGCNA' has no attribute 'WGCNA'"
          ]
        }
      ]
    },
    {
      "cell_type": "code",
      "source": [],
      "metadata": {
        "id": "0KlKCqh3D4AR"
      },
      "execution_count": null,
      "outputs": []
    }
  ]
}